{
 "cells": [
  {
   "cell_type": "code",
   "execution_count": null,
   "metadata": {},
   "outputs": [],
   "source": [
    "class ListNode:\n",
    "    def __init__(self, x):\n",
    "        self.val = x\n",
    "        self.next = None\n",
    "\n",
    "class TreeNode:\n",
    "    def __init__(self, x):\n",
    "        self.val = x\n",
    "        self.left = None\n",
    "        self.right = None\n"
   ]
  },
  {
   "cell_type": "markdown",
   "metadata": {},
   "source": [
    "## Google"
   ]
  },
  {
   "cell_type": "code",
   "execution_count": null,
   "metadata": {},
   "outputs": [],
   "source": [
    "def maxArea(height):\n",
    "    L, R = 0, len(height)-1\n",
    "    maxArea = 0\n",
    "    while R > L:\n",
    "        W = R-L\n",
    "        H = min(height[L], height[R])\n",
    "        maxArea = max(maxArea, W*H)\n",
    "        if height[L] < height[R]:\n",
    "            L += 1\n",
    "        else:\n",
    "            R -= 1\n",
    "    return maxArea\n",
    "\n",
    "height = [1,8,6,2,5,4,8,3,7]\n",
    "print(maxArea(height))\n",
    "\n",
    "\n"
   ]
  },
  {
   "cell_type": "code",
   "execution_count": 46,
   "metadata": {},
   "outputs": [
    {
     "name": "stdout",
     "output_type": "stream",
     "text": [
      "4\n"
     ]
    }
   ],
   "source": [
    "#--- https://leetcode.com/discuss/interview-question/394347/\n",
    "def wateringPlants(plants, cap1, cap2):\n",
    "    if len(plants) == 0:\n",
    "        return 0\n",
    "    can1, can2 = cap1, cap2\n",
    "    refill = 2\n",
    "    L, R = 0, len(plants)-1\n",
    "    \n",
    "    while L <= R:\n",
    "        if can1 < plants[L]:\n",
    "            refill+=1\n",
    "            can1 = cap1\n",
    "        if can2 < plants[R]:\n",
    "            refill+=1\n",
    "            can2 = cap2\n",
    "        can1-=plants[L]\n",
    "        can2-=plants[R]\n",
    "        L+=1\n",
    "        R-=1\n",
    "        \n",
    "        if L==R:\n",
    "            # this assumes that both capacities together (rather than individually) are enough to \n",
    "            # water the plant. otherwise, you don't need the else conditional. just refill one can\n",
    "            if can1+can2 >= plants[L]:\n",
    "                return refill\n",
    "            elif (can1+cap2 >= plants[L]) or (can2+cap1 >= plants[L]):\n",
    "                return refill+1\n",
    "            else:\n",
    "                return refill+2\n",
    "            \n",
    "plants = [5,12,7]\n",
    "cap1 = 5\n",
    "cap2 = 7\n",
    "print(wateringPlants(plants, cap1, cap2))"
   ]
  },
  {
   "cell_type": "code",
   "execution_count": 49,
   "metadata": {},
   "outputs": [
    {
     "name": "stdout",
     "output_type": "stream",
     "text": [
      "-1\n"
     ]
    }
   ],
   "source": [
    "def minDominoRotations(A, B):\n",
    "    # first use hashmap to count occurences of each number.\n",
    "    N = len(A)\n",
    "    countA = defaultdict(int)\n",
    "    countB = defaultdict(int)\n",
    "    same = 0\n",
    "    for i in range(N):\n",
    "        countA[A[i]] += 1\n",
    "        countB[B[i]] += 1\n",
    "        if A[i] == B[i]: # no swapping case\n",
    "            same += 1\n",
    "    for num in range(1,7):\n",
    "        if (countA[num] + countB[num] - same) == N:\n",
    "            return (N - max(countA[num], countB[num]))\n",
    "    return -1\n",
    "\n",
    "# A1 = [2,1,2,4,2,2]\n",
    "# B1 = [5,2,6,2,3,2]\n",
    "# print(minDominoRotations(A1,B1))\n",
    "\n",
    "A2 = [3,5,1,2,3]\n",
    "B2 = [3,6,3,3,4]\n",
    "print(minDominoRotations(A2,B2))"
   ]
  },
  {
   "cell_type": "code",
   "execution_count": null,
   "metadata": {},
   "outputs": [],
   "source": [
    "# https://leetcode.com/problems/flatten-binary-tree-to-linked-list/discuss/37227/Python-easy-to-understand-recursive-solution-with-explaination.\n",
    "\n",
    "# https://leetcode.com/problems/fruit-into-baskets/discuss/170775/Simple-O(n)-Sliding-Window-Same-As-LC159-General-Sliding-Window-Template"
   ]
  },
  {
   "cell_type": "markdown",
   "metadata": {
    "heading_collapsed": true
   },
   "source": [
    "## Magic Leap"
   ]
  },
  {
   "cell_type": "code",
   "execution_count": 112,
   "metadata": {
    "hidden": true
   },
   "outputs": [
    {
     "name": "stdout",
     "output_type": "stream",
     "text": [
      "0 29 14\n",
      "0 13 6\n",
      "0 5 2\n",
      "3 5 4\n",
      "5 5 5\n",
      "5\n"
     ]
    }
   ],
   "source": [
    "def findClosestSqRt(N): # O(log n)\n",
    "    a = 0\n",
    "    b = N\n",
    "    while b >= a:\n",
    "        mid = (a+b) // 2\n",
    "        if mid*mid == N:\n",
    "            return mid\n",
    "        if mid*mid < N:\n",
    "            a = mid + 1\n",
    "        else: \n",
    "            b = mid - 1\n",
    "    return mid\n",
    "\n",
    "N = 29\n",
    "print(findClosestSqRt(N))\n",
    "\n",
    "\n"
   ]
  },
  {
   "cell_type": "markdown",
   "metadata": {},
   "source": [
    "## Amazon"
   ]
  },
  {
   "cell_type": "markdown",
   "metadata": {},
   "source": [
    "https://leetcode.com/discuss/interview-question/344650/Amazon-Online-Assessment-Questions"
   ]
  },
  {
   "cell_type": "code",
   "execution_count": null,
   "metadata": {},
   "outputs": [],
   "source": [
    "# return number of unique pairs that sum to target\n",
    "def twoSumUnique(nums, target): # O(n)\n",
    "    comp = []\n",
    "    ans = set()\n",
    "    for i, n in enumerate(nums):\n",
    "        diff = target - n\n",
    "        if diff in comp:\n",
    "            ans.add((diff, n)) if diff < n else ans.add((n, diff))\n",
    "        comp.append(n)\n",
    "    return len(ans)\n",
    "\n",
    "nums = [1, 5, 1, 5]\n",
    "target = 6\n",
    "print(twoSumUnique(nums, target))\n",
    "\n",
    "# return indices of pairs of numbers that sum to target\n",
    "def twoSum(nums, target):\n",
    "    comp = {}\n",
    "    for i, n in enumerate(nums):\n",
    "        diff = target - n\n",
    "        if diff in comp:\n",
    "            return [comp[diff], i]\n",
    "        comp[n] = i\n",
    "nums = [2,7,11,15]\n",
    "target = 9\n",
    "print(twoSum(nums, target))\n",
    "\n",
    "\n"
   ]
  },
  {
   "cell_type": "code",
   "execution_count": null,
   "metadata": {},
   "outputs": [],
   "source": [
    "def twoSumLessThanK(nums, target):\n",
    "    nums = sorted(nums)\n",
    "    L, R = 0, len(nums)-1\n",
    "    maxsum = -1\n",
    "    while R > L:\n",
    "        currsum = nums[L] + nums[R]\n",
    "        if currsum >= target:\n",
    "            R-=1\n",
    "        else:\n",
    "            L+=1\n",
    "            maxsum = max(maxsum, currsum)\n",
    "    return maxsum\n",
    "\n",
    "nums =  [34,23,1,24,75,33,54,8]\n",
    "target = 60\n",
    "twoSumLessThanK(nums, target)"
   ]
  },
  {
   "cell_type": "code",
   "execution_count": 1,
   "metadata": {},
   "outputs": [
    {
     "name": "stdout",
     "output_type": "stream",
     "text": [
      "(5, 4)\n"
     ]
    }
   ],
   "source": [
    "def moviesInFlight(durations, d):\n",
    "    sorted_dur = sorted( (val, ix) for ix, val in enumerate(durations) )\n",
    "    L, R = 0, len(durations)-1\n",
    "    pair = (-1,0,0) # (total_duration, movie1, movie2)\n",
    "    while R > L:\n",
    "        curr_dur = sorted_dur[L][0] + sorted_dur[R][0] # 0th elem is length of movie, 1th elem is original index\n",
    "        if curr_dur > (d - 30):\n",
    "            R-=1\n",
    "        else:\n",
    "            # equivalence case\n",
    "            if curr_dur == pair[0]:\n",
    "                if R > pair[2]: \n",
    "                    pair = (curr_dur, L, R) # update pair only if the curr_dur pair has longest movie\n",
    "            # greater than case\n",
    "            elif curr_dur > pair[0]: \n",
    "                pair = (curr_dur, L, R) # update pair only if the curr_dur duration is greater\n",
    "            L+=1\n",
    "    movie1, movie2 = pair[1], pair[2] \n",
    "    return (sorted_dur[movie1][1], sorted_dur[movie2][1])\n",
    "\n",
    "durations = [90, 85, 75, 60, 120, 100, 150, 125, 110, 110]\n",
    "d = 250\n",
    "\n",
    "print(moviesInFlight(durations, d))\n",
    "\n",
    "\n"
   ]
  },
  {
   "cell_type": "code",
   "execution_count": null,
   "metadata": {},
   "outputs": [],
   "source": [
    "def isSubtree(s,t):\n",
    "    if not s: # S is None\n",
    "        return False\n",
    "    return isSametree(s,t) or isSubtree(s.left, t) or isSubtree(s.right, t)\n",
    "\n",
    "def isSametree(node1,node2):\n",
    "    if not node1 and not node2: \n",
    "        return True\n",
    "    if not node1 or not node2:\n",
    "        return False\n",
    "    if node1.val != node2.val:\n",
    "        return False\n",
    "    else isSametree(node1.left, node2.left) and isSametree(node1.right, node2.right)\n",
    "    "
   ]
  },
  {
   "cell_type": "code",
   "execution_count": 4,
   "metadata": {},
   "outputs": [
    {
     "name": "stdout",
     "output_type": "stream",
     "text": [
      "-1\n"
     ]
    }
   ],
   "source": [
    "from collections import deque\n",
    "\n",
    "def minDist(R, C, lot):\n",
    "    q = deque()\n",
    "    q.append((0,0,0))\n",
    "    dirs = [(1,0), (-1,0), (0,1), (0,-1)]\n",
    "    visited = set()\n",
    "    visited.add((0,0))\n",
    "    while q:\n",
    "        x, y, steps = q.popleft()\n",
    "        if lot[x][y] == 9:\n",
    "            #print('found')\n",
    "            return steps\n",
    "        for dx,dy in dirs:\n",
    "            xx = x+dx\n",
    "            yy = y+dy\n",
    "            if (0 <= xx < R) and (0 <= yy < C) and (lot[xx][yy] != 0) and (xx, yy) not in visited:\n",
    "                visited.add((xx, yy))\n",
    "                q.append((xx, yy, steps+1))\n",
    "    return -1\n",
    "\n",
    "\n",
    "def run_test(testcase=1):\n",
    "    if testcase == 1:\n",
    "        R, C = 3, 4\n",
    "        lot = [[1, 1, 1, 1],\n",
    "               [1, 1, 0, 1],\n",
    "               [1, 0, 9, 1]]\n",
    "    elif testcase == 2:\n",
    "        R, C = 3, 3\n",
    "        lot = [[1, 0, 0],\n",
    "               [1, 0, 0],\n",
    "               [0, 9, 1]]\n",
    "    ans = minDist(R,C,lot)\n",
    "    print(ans)\n",
    "\n",
    "run_test(testcase=2)"
   ]
  },
  {
   "cell_type": "code",
   "execution_count": 118,
   "metadata": {},
   "outputs": [
    {
     "name": "stdout",
     "output_type": "stream",
     "text": [
      "deque([(0, 0)])\n",
      "1 0\n",
      "-1 0\n",
      "0 1\n",
      "0 -1\n"
     ]
    }
   ],
   "source": [
    "from collections import deque\n",
    "\n",
    "def treasureIslandI(grid):\n",
    "    if not grid:\n",
    "        return -1\n",
    "    r,c = len(grid), len(grid[0])\n",
    "    direction = [(1,0),(-1,0),(0,1),(0,-1)]\n",
    "    \n",
    "    Q = collections.deque([(0,0)])\n",
    "    visited = set()\n",
    "    visited.add((0,0))\n",
    "   \n",
    "    while Q:\n",
    "        i,j = Q.popleft()\n",
    "        if grid[ii][jj]=='D':\n",
    "            return steps\n",
    "        for dx,dy in direction:\n",
    "            ii = i+dx\n",
    "            jj = j+dy\n",
    "            if ii in range(r) and jj in range(c) and grid[ii][jj]!='D' and (ii,jj) not in visited:\n",
    "                visited.add((ii,jj))\n",
    "                Q.append((ii,jj))\n",
    "                return 1\n",
    "            \n",
    "            \n",
    "    return\n",
    "\n",
    "grid = [['O', 'O', 'O', 'O'],\n",
    "        ['D', 'O', 'D', 'O'],\n",
    "        ['O', 'O', 'O', 'O'],\n",
    "        ['X', 'D', 'D', 'O']]\n",
    "\n",
    "treasureIslandI(grid)\n",
    "    "
   ]
  },
  {
   "cell_type": "code",
   "execution_count": 68,
   "metadata": {},
   "outputs": [
    {
     "name": "stdout",
     "output_type": "stream",
     "text": [
      "29\n"
     ]
    }
   ],
   "source": [
    "import heapq\n",
    "\n",
    "def minCostToConnectRopes(ropes):\n",
    "    cost = 0\n",
    "    heap = []\n",
    "    for r in ropes:\n",
    "        heapq.heappush(heap,r)\n",
    "    while len(heap) > 1:\n",
    "        r1 = heapq.heappop(heap)\n",
    "        r2 = heapq.heappop(heap)\n",
    "        cost += (r1+r2)\n",
    "        heapq.heappush(heap, (r1+r2))\n",
    "    return cost\n",
    "\n",
    "ropes = [4,3,2,6]\n",
    "print(minCostToConnectRopes(ropes))\n",
    "\n",
    "\n"
   ]
  },
  {
   "cell_type": "code",
   "execution_count": 6,
   "metadata": {},
   "outputs": [
    {
     "name": "stdout",
     "output_type": "stream",
     "text": [
      "12\n"
     ]
    }
   ],
   "source": [
    "#--- https://leetcode.com/articles/the-maze-ii/\n",
    "from collections import deque\n",
    "\n",
    "def theMazeII(maze, start, dest):\n",
    "    R, C = len(maze), len(maze[0])\n",
    "    q = deque()\n",
    "    q.append((start[0], start[1], 0))\n",
    "    visited = set()\n",
    "    visited.add((start[0], start[1]))\n",
    "    dirs = [(1,0), (-1,0), (0,1), (0,-1)]\n",
    "    minDist = -1\n",
    "    while q:\n",
    "        x, y, steps = q.popleft()\n",
    "        for dx, dy in dirs:\n",
    "            xx, yy, cnt = x, y, 0\n",
    "            \n",
    "            # keep moving in one direction until hit a boundary or a 1\n",
    "            while (0 <= xx+dx < R) and (0 <= yy+dy < C) and (maze[xx+dx][yy+dy] == 0):\n",
    "                xx += dx\n",
    "                yy += dy\n",
    "                cnt += 1\n",
    "            \n",
    "            if (xx, yy) == (dest[0], dest[1]):\n",
    "                if minDist == -1:\n",
    "                    minDist = steps+cnt \n",
    "                else:\n",
    "                    minDist = min(minDist, steps+cnt)\n",
    "            \n",
    "            if (xx, yy) not in visited:\n",
    "                visited.add((xx, yy))\n",
    "                q.append((xx, yy, steps+cnt))\n",
    "    return minDist\n",
    "\n",
    "\n",
    "def run_test(testcase=1):\n",
    "    if testcase == 1:\n",
    "        maze = [[0, 0, 1, 0, 0],\n",
    "                [0, 0, 0, 0, 0],\n",
    "                [0, 0, 0, 1, 0],\n",
    "                [1, 1, 0, 1, 1],\n",
    "                [0, 0, 0, 0, 0]]\n",
    "        start = (0, 4)\n",
    "        dest = (4, 4)\n",
    "    elif testcase == 2:\n",
    "        maze = [[0, 0, 0, 0, 0],\n",
    "                [0, 0, 0, 1, 0],\n",
    "                [1, 1, 0, 1, 1],\n",
    "                [0, 0, 0, 0, 0]]\n",
    "        start = (0, 4)\n",
    "        dest = (3, 2)\n",
    "    ans = theMazeII(maze, start, dest)\n",
    "    print(ans)\n",
    "\n",
    "run_test(testcase=1)\n"
   ]
  },
  {
   "cell_type": "code",
   "execution_count": 2,
   "metadata": {},
   "outputs": [],
   "source": [
    "import heapq # min heap, so pops on min value\n",
    "\n",
    "def KNearest(points, k):\n",
    "    heap = []\n",
    "    for x,y in points:\n",
    "        dist = -(x**2 + y*2)\n",
    "        if len(heap) == k:\n",
    "            heapq.heappushpop(heap, (dist,x,y))\n",
    "        else:\n",
    "            heapq.heappush(heap, (dist,x,y))\n",
    "    return [(x,y) for (dist,x,y) in heap]"
   ]
  },
  {
   "cell_type": "code",
   "execution_count": 68,
   "metadata": {},
   "outputs": [
    {
     "name": "stdout",
     "output_type": "stream",
     "text": [
      "dfs: node, depth 0 0\n",
      "neighbor 1\n",
      "dfs: node, depth 1 1\n",
      "neighbor 0\n",
      "neighbor 3\n",
      "dfs: node, depth 3 2\n",
      "neighbor 1\n",
      "neighbor 2\n",
      "dfs: node, depth 2 3\n",
      "neighbor 3\n",
      "min_back_depth: 5\n",
      "neighbor 4\n",
      "dfs: node, depth 4 3\n",
      "neighbor 3\n",
      "min_back_depth: 5\n",
      "min_back_depth: 5\n",
      "min_back_depth: 5\n",
      "[(0, 1), (1, 3), (2, 3), (3, 4)]\n"
     ]
    }
   ],
   "source": [
    "import collections\n",
    "\n",
    "class Solution():\n",
    "    def criticalConnections(self, n, connections):\n",
    "        def makeGraph(connections):\n",
    "            graph = collections.defaultdict(list)\n",
    "            for conn in connections:\n",
    "                graph[conn[0]].append(conn[1])\n",
    "                graph[conn[1]].append(conn[0])\n",
    "            return graph\n",
    "\n",
    "        graph = makeGraph(connections)\n",
    "        connections = set(map(tuple, (map(sorted, connections))))\n",
    "        rank = [-2] * n\n",
    "\n",
    "        def dfs(node, depth):\n",
    "            print('dfs: node, depth', node, depth)\n",
    "            if rank[node] >= 0:\n",
    "                # visiting (0<=rank<n), or visited (rank=n)\n",
    "                return rank[node]\n",
    "            rank[node] = depth\n",
    "            min_back_depth = n\n",
    "            for neighbor in graph[node]:\n",
    "                print('neighbor', neighbor)\n",
    "                if rank[neighbor] == depth - 1:\n",
    "                    continue  # don't immmediately go back to parent. that's why i didn't choose -1 as the special value, in case depth==0.\n",
    "                back_depth = dfs(neighbor, depth + 1)\n",
    "                if back_depth <= depth:\n",
    "                    print('discarded edge:', node, neighbor)\n",
    "                    connections.discard(tuple(sorted((node, neighbor))))\n",
    "                min_back_depth = min(min_back_depth, back_depth)\n",
    "                print('min_back_depth:', min_back_depth)\n",
    "            \n",
    "            return min_back_depth\n",
    "            \n",
    "        dfs(0, 0)  # since this is a connected graph, we don't have to loop over all nodes.\n",
    "        return list(sorted(connections))\n",
    "    \n",
    "# n = 4\n",
    "# connections = [[0,1],[1,2],[2,0],[1,3]]\n",
    "\n",
    "# n = 7\n",
    "# connections = [[0, 1], [0, 2], [1, 3], [2, 3], [2, 5], [5, 6], [3, 4]]\n",
    "\n",
    "n = 5\n",
    "connections = [[0, 1], [1, 3], [2, 3], [3, 4]]\n",
    "\n",
    "sol = Solution()\n",
    "ans = sol.criticalConnections(n,connections)\n",
    "print(ans)\n",
    "# Output: [[1,3]]"
   ]
  },
  {
   "cell_type": "markdown",
   "metadata": {},
   "source": [
    "## Amazon Online Assessment 2020 "
   ]
  },
  {
   "cell_type": "code",
   "execution_count": 85,
   "metadata": {},
   "outputs": [
    {
     "name": "stdout",
     "output_type": "stream",
     "text": [
      "0\n"
     ]
    }
   ],
   "source": [
    "def serverUpdate(rows, cols, grid):\n",
    "    if not grid:\n",
    "        return -1\n",
    "    \n",
    "    Q = collections.deque([])\n",
    "    for i in range(rows):\n",
    "        for j in range(cols):\n",
    "            if grid[i][j] == 1:\n",
    "                Q.append((i,j))\n",
    "    days = -1\n",
    "    #visited = set()\n",
    "    if len(Q) == 0:\n",
    "        return -1\n",
    "    \n",
    "    while Q:\n",
    "        for node in list(Q):\n",
    "            i,j = Q.popleft()\n",
    "            for (dirX, dirY) in [(i+1,j), (i-1,j), (i,j+1), (i,j-1)]:\n",
    "                if (0<=dirX<rows) and (0<=dirY<cols) and grid[dirX][dirY] == 0:\n",
    "                    grid[dirX][dirY] = 1\n",
    "                    Q.append((dirX,dirY))\n",
    "        days+=1\n",
    "    return days\n",
    "\n",
    "grid = [[1, 1, 1, 1, 1],\n",
    "        [1, 1, 1, 1, 1],\n",
    "        [1, 1, 1, 1, 1],\n",
    "        [1, 1, 1, 1, 1]]\n",
    "\n",
    "print(serverUpdate(4,5,grid))"
   ]
  },
  {
   "cell_type": "code",
   "execution_count": 80,
   "metadata": {},
   "outputs": [
    {
     "name": "stdout",
     "output_type": "stream",
     "text": [
      "-1\n"
     ]
    }
   ],
   "source": [
    "import collections\n",
    "\n",
    "def zombieMatrix(grid):\n",
    "    r,c = len(grid), len(grid[0])\n",
    "    if not grid:\n",
    "        return 0\n",
    "    \n",
    "    Q = collections.deque([])\n",
    "    for i in range(r):\n",
    "        for j in range(c):\n",
    "            if grid[i][j] == 1:\n",
    "                Q.append((i,j))\n",
    "    hours = -1\n",
    "    while Q:\n",
    "        for node in list(Q):\n",
    "            i,j = Q.popleft()\n",
    "            for (dirX, dirY) in [(i+1,j), (i-1,j), (i,j+1), (i,j-1)]:\n",
    "                if (0<=dirX<r) and (0<=dirY<c) and grid[dirX][dirY] == 0:\n",
    "                    print('({0},{1}) - zombie infection!!'.format(dirX, dirY))\n",
    "                    grid[dirX][dirY] = 1\n",
    "                    Q.append((dirX,dirY))\n",
    "        hours+=1\n",
    "    return hours\n",
    "\n",
    "# grid = [[0, 1, 1, 0, 1],\n",
    "#         [0, 1, 0, 1, 0],\n",
    "#         [0, 0, 0, 0, 1],\n",
    "#         [0, 1, 0, 0, 0]]\n",
    "\n",
    "grid = [[0, 0, 0, 0, 0],\n",
    "        [0, 0, 0, 0, 0],\n",
    "        [0, 0, 0, 0, 0],\n",
    "        [0, 0, 0, 0, 0]]\n",
    "\n",
    "print(zombieMatrix(grid))"
   ]
  },
  {
   "cell_type": "code",
   "execution_count": 36,
   "metadata": {},
   "outputs": [
    {
     "name": "stdout",
     "output_type": "stream",
     "text": [
      "['betacellular', 'anacell']\n"
     ]
    }
   ],
   "source": [
    "# https://leetcode.com/discuss/interview-question/542597/\n",
    "\n",
    "from collections import defaultdict\n",
    "import heapq\n",
    "\n",
    "def topKWords(k, keywords, reviews):\n",
    "    count = defaultdict(int)\n",
    "    \n",
    "    # base case: empty keywords or empty reviews or topNCompetitors is 0\n",
    "    if not keywords or not reviews or k==0:\n",
    "        return []\n",
    "  \n",
    "    for word in keywords:\n",
    "        for review in reviews:\n",
    "            if word in review.lower():\n",
    "                count[word]+=1\n",
    "\n",
    "    heap = [(-freq,word) for word,freq in count.items()]\n",
    "    heapq.heapify(heap)\n",
    "    return [word for freq,word in heapq.nsmallest(k, heap)]\n",
    "\n",
    "# k = 2\n",
    "# keywords = [\"anacell\", \"cetracular\", \"betacellular\"]\n",
    "# reviews = [\"Anacell provides the best services in the city\",\n",
    "#            \"betacellular has awesome services\",\n",
    "#            \"Best services provided by anacell, everyone should use anacell\"]\n",
    "\n",
    "k = 2\n",
    "keywords = [\"anacell\", \"betacellular\", \"cetracular\", \"deltacellular\", \"eurocell\"]\n",
    "reviews = [\"I love anacell Best services; Best services provided by anacell\",\n",
    "           \"betacellular has great services\",\n",
    "           \"deltacellular provides much better services than betacellular\",\n",
    "           \"cetracular is worse than anacell\",\n",
    "           \"Betacellular is better than deltacellular.\"]\n",
    "print(topKWords(k, keywords, reviews))"
   ]
  },
  {
   "cell_type": "code",
   "execution_count": null,
   "metadata": {},
   "outputs": [],
   "source": [
    "from collections import defaultdict\n",
    "import heapq\n",
    "\n",
    "class Solution:\n",
    "    def topKFrequent(self, words, k):\n",
    "        if not words:\n",
    "            return []\n",
    "        \n",
    "        count = defaultdict(int)\n",
    "        for word in words:\n",
    "            word = word.lower()\n",
    "            count[word]+=1\n",
    "  \n",
    "        # heap = [(-freq,word) for word, freq in count.items()]\n",
    "        # heapq.heapify(heap)\n",
    "        # return [word for freq,word in heapq.nsmallest(k, heap)]\n",
    "        return heapq.nsmallest(k, count.keys(), lambda x: (-count[x], x))\n",
    "\n"
   ]
  },
  {
   "cell_type": "code",
   "execution_count": 33,
   "metadata": {},
   "outputs": [
    {
     "name": "stdout",
     "output_type": "stream",
     "text": [
      "['anacell', 'betacellular']\n"
     ]
    }
   ],
   "source": [
    "from collections import defaultdict\n",
    "import heapq\n",
    "\n",
    "def topNCompetitors(numCompetitors, topNCompetitors, competitors, numReviews, reviews):\n",
    "    count = defaultdict(int)\n",
    "    \n",
    "    # base case: empty reviews or empty competitors or topNCompetitors is 0\n",
    "    if not competitors or not reviews or topNCompetitors==0:\n",
    "        return []\n",
    "    \n",
    "    # count occurences of word in reviews\n",
    "    for word in competitors:\n",
    "        for r in reviews:\n",
    "            if word in r.lower():\n",
    "                count[word]+=1\n",
    "  \n",
    "    heap = [(-freq,word) for word,freq in count.items()]\n",
    "    heapq.heapify(heap)\n",
    "    return [word for freq,word in heapq.nsmallest(topNCompetitors, heap)]\n",
    "\n",
    "    #-- Solution 1 --#          \n",
    "#     return heapq.nsmallest(topNCompetitors, count.keys(), lambda x: (-count[x], x))\n",
    "\n",
    "    #-- Solution 2 --#\n",
    "    # for case if topNCompetitors > numCompetitors, then return names of competitors discussed in reviews\n",
    "#     if topNCompetitors > numCompetitors:\n",
    "#         ans = []\n",
    "#         for k,v in count.items():\n",
    "#             if v > 0:\n",
    "#                 ans.append(k)\n",
    "#         return ans    \n",
    "#     ans = sorted(count, key=lambda x: (-count[x], x))\n",
    "#     return ans[:topNCompetitors]  \n",
    "    \n",
    "    \n",
    "def run_test(testcase=1):\n",
    "    if testcase == 1:\n",
    "        numToys = 6\n",
    "        topToys = 3\n",
    "        toys = [\"elmo\", \"elsa\", \"legos\", \"drone\", \"tablet\", \"warcraft\"]\n",
    "        numQuotes = 6\n",
    "        quotes = [\n",
    "        \"Elmo is the hottest of the season! Elmo will be on every kid's wishlist!\",\n",
    "        \"The new Elmo dolls are super high quality\",\n",
    "        \"Expect the Elsa dolls to be very popular this year, Elsa!\",\n",
    "        \"Elsa and Elmo are the toys I'll be buying for my kids, Elsa is good\",\n",
    "        \"For parents of older kids, look into buying them a drone\",\n",
    "        \"Warcraft is slowly rising in popularity ahead of the holiday season\"\n",
    "        ]\n",
    "\n",
    "        ans = topNCompetitors(numToys, topToys, toys, numQuotes, quotes)\n",
    "        print(ans)\n",
    "    elif testcase == 2:\n",
    "        numCompetitors = 5\n",
    "        topNComp = 2\n",
    "        competitors = [\"anacell\", \"betacellular\", \"cetracular\", \"deltacellular\", \"eurocell\"]\n",
    "        numReviews = 3\n",
    "        reviews = [\"Best services provided by anacell\",\n",
    "                   \"betacellular has great services\",\n",
    "                   \"anacell provides much better services than all other\"]\n",
    "        ans = topNCompetitors(numCompetitors, topNComp, competitors, numReviews, reviews)\n",
    "        print(ans)\n",
    "    elif testcase == 3:\n",
    "        numCompetitors = 5\n",
    "        topNComp = 2\n",
    "        competitors = [\"anacell\", \"betacellular\", \"cetracular\", \"deltacellular\", \"eurocell\"]\n",
    "        numReviews = 5\n",
    "        reviews = [\"I love anacell Best services provided by anacell in the town\",\n",
    "                   \"betacellular has great services\",\n",
    "                   \"deltacellular provides much better services than betacellular\",\n",
    "                   \"cetracular is worse than eurocell\",\n",
    "                   \"betacellular is better than deltacellular\"]\n",
    "        ans = topNCompetitors(numCompetitors, topNComp, competitors, numReviews, reviews)\n",
    "        print(ans)\n",
    "\n",
    "import time\n",
    "tic = time.time()\n",
    "run_test(testcase=2)\n",
    "# print(time.time()-tic)"
   ]
  },
  {
   "cell_type": "markdown",
   "metadata": {},
   "source": [
    "## Waymo"
   ]
  },
  {
   "cell_type": "code",
   "execution_count": 110,
   "metadata": {},
   "outputs": [
    {
     "name": "stdout",
     "output_type": "stream",
     "text": [
      "[[1 3]\n",
      " [3 8]]\n",
      "[[1 2]\n",
      " [2 3]]\n"
     ]
    }
   ],
   "source": [
    "\n",
    "import numpy as np\n",
    "\n",
    "def integral_image(im):\n",
    "    r, c = len(im), len(im[0])\n",
    "    res = im * [0]\n",
    "  \n",
    "    for i in range(r):\n",
    "        for j in range(c):\n",
    "            if i==0 and j==0:\n",
    "                res[0,0] = im[0,0]\n",
    "                continue\n",
    "            res[i,j] = np.sum(im[0:i+1,0:j+1])\n",
    "    return res\n",
    "\n",
    "im = np.array([[1,2],[2,3]])\n",
    "print(integral_image(im))\n"
   ]
  },
  {
   "cell_type": "markdown",
   "metadata": {},
   "source": [
    "## General Leetcode Practice "
   ]
  },
  {
   "cell_type": "code",
   "execution_count": 47,
   "metadata": {},
   "outputs": [
    {
     "name": "stdout",
     "output_type": "stream",
     "text": [
      "[['baggage', 'bags', 'banner'], ['baggage', 'bags', 'banner'], ['baggage', 'bags'], ['bags']]\n"
     ]
    }
   ],
   "source": [
    "def suggestedProducts(products, searchWord):\n",
    "    n = len(searchWord)\n",
    "    result = []\n",
    "    prefix = \"\"\n",
    "    products.sort()\n",
    "\n",
    "    for char in searchWord:\n",
    "        tmp = []\n",
    "        prefix+=char\n",
    "        idx = binary_search(products, prefix)\n",
    "\n",
    "        for word in products[idx:idx+3]:\n",
    "            if word.startswith(prefix):\n",
    "                tmp.append(word)\n",
    "        result.append(tmp)\n",
    "    return result\n",
    "\n",
    "def binary_search(word, target):\n",
    "    lo = 0\n",
    "    hi = len(word)\n",
    "\n",
    "    while lo < hi:\n",
    "        mid = (lo+hi) // 2\n",
    "        if word[mid] < target:\n",
    "            lo = mid + 1\n",
    "        else:\n",
    "            hi = mid\n",
    "    return lo\n",
    "\n",
    "# products = [\"mobile\",\"mouse\",\"moneypot\",\"monitor\",\"mousepad\"]\n",
    "# searchWord = \"mouse\"\n",
    "\n",
    "products = [\"bags\",\"baggage\",\"banner\",\"box\",\"cloths\"]\n",
    "searchWord = \"bags\"\n",
    "print(suggestedProducts(products, searchWord))"
   ]
  },
  {
   "cell_type": "code",
   "execution_count": 119,
   "metadata": {},
   "outputs": [
    {
     "name": "stdout",
     "output_type": "stream",
     "text": [
      "[[0, 1, -1, 2, 1, -1, -1, 0, 0, -1, 1, 1, 0, -1, 4, 3, 2, 1, 0, 1, 0, -1, -1, -1, -1, 2, -1, -1, 1, 2, -1, -1, 0, 0, -1, 0, 0, 0, 1, 0, 1, -1, -1, 0, -1, 0, 0, 0, 1], [1, 0, -1, 1, 0, -1, -1, -1, -1, 0, 0, 1, 1, -1, -1, 4, -1, -1, 1, 2, -1, 0, -1, 1, 0, 1, -1, 1, 0, 1, 0, 1, -1, 1, 0, 1, -1, 1, 0, 1, 1, 0, -1, 1, -1, -1, -1, 0, 1]]\n",
      "True\n"
     ]
    }
   ],
   "source": [
    "class Solution:\n",
    "    def wallsAndGates(self, rooms):\n",
    "        \"\"\"\n",
    "        Do not return anything, modify rooms in-place instead.\n",
    "        \"\"\"\n",
    "        r, c = len(rooms), len(rooms[0])\n",
    "        Q = deque([])\n",
    "        direction = [(1,0),(-1,0),(0,1),(0,-1)]\n",
    "\n",
    "        for i in range(r):\n",
    "          for j in range(c):\n",
    "            if rooms[i][j] == 0:\n",
    "              Q.append((i,j))\n",
    "        \n",
    "        while Q:\n",
    "          for q in list(Q):\n",
    "            x,y = Q.popleft()\n",
    "            for dx,dy in direction:\n",
    "              xx = x+dx\n",
    "              yy = y+dy\n",
    "              if (0<=xx<r) and (0<=yy<c) and rooms[xx][yy] == 2147483647:\n",
    "                rooms[xx][yy] = rooms[x][y] + 1\n",
    "                Q.append((xx,yy))\n",
    "        print(rooms)\n",
    "        return rooms\n",
    "   \n",
    "\n",
    "rooms = [[0,2147483647,-1,2147483647,2147483647,-1,-1,0,0,-1,2147483647,2147483647,0,-1,2147483647,2147483647,2147483647,2147483647,0,2147483647,0,-1,-1,-1,-1,2147483647,-1,-1,2147483647,2147483647,-1,-1,0,0,-1,0,0,0,2147483647,0,2147483647,-1,-1,0,-1,0,0,0,2147483647],[2147483647,0,-1,2147483647,0,-1,-1,-1,-1,0,0,2147483647,2147483647,-1,-1,2147483647,-1,-1,2147483647,2147483647,-1,0,-1,2147483647,0,2147483647,-1,2147483647,0,2147483647,0,2147483647,-1,2147483647,0,2147483647,-1,2147483647,0,2147483647,2147483647,0,-1,2147483647,-1,-1,-1,0,2147483647]]\n",
    "\n",
    "target = [[0,1,-1,2,1,-1,-1,0,0,-1,1,1,0,-1,4,3,2,1,0,1,0,-1,-1,-1,-1,2,-1,-1,1,2,-1,-1,0,0,-1,0,0,0,1,0,1,-1,-1,0,-1,0,0,0,1],[1,0,-1,1,0,-1,-1,-1,-1,0,0,1,1,-1,-1,4,-1,-1,1,2,-1,0,-1,1,0,1,-1,1,0,1,0,1,-1,1,0,1,-1,1,0,1,1,0,-1,1,-1,-1,-1,0,1]]\n",
    "\n",
    "sol = Solution()\n",
    "predicted = sol.wallsAndGates(rooms)\n",
    "print(target == predicted)"
   ]
  },
  {
   "cell_type": "code",
   "execution_count": 62,
   "metadata": {},
   "outputs": [
    {
     "name": "stdout",
     "output_type": "stream",
     "text": [
      "-1\n"
     ]
    }
   ],
   "source": [
    "#--- https://leetcode.com/problems/coin-change/discuss/478739/Python3-DP-solution-with-comments-to-help-understand-what-is-happening-and-why\n",
    "\n",
    "def coinChange(coins, amount):\n",
    "\n",
    "    #-- Solution 1 --#\n",
    "    dp = [0] + [amount+1] * (amount) \n",
    "    for coin in coins:\n",
    "        for i in range(coin, amount+1):\n",
    "            dp[i] = min(dp[i], dp[i-coin]+1)\n",
    "    if dp[amount] == amount + 1:\n",
    "        return -1 \n",
    "    # Return the optimal number of coins to create the amount\n",
    "    return dp[amount]\n",
    "\n",
    "    #-- Solution 2 --#\n",
    "    # dp = [0] + [float('inf')] * amount\n",
    "    # for coin in coins:\n",
    "        # for i in range(coin, amount+1):\n",
    "            # dp[i] = min(dp[i], dp[i-coin]+1)\n",
    "    # return dp[-1] if dp[-1] != float('inf') else -1\n",
    "\n",
    "# coins = [1, 2, 5]\n",
    "# amount = 11\n",
    "# print(coinChange(coins,amount))\n",
    "\n",
    "coins = [2]\n",
    "amount = 3\n",
    "print(coinChange(coins,amount))"
   ]
  },
  {
   "cell_type": "code",
   "execution_count": 37,
   "metadata": {},
   "outputs": [],
   "source": [
    "def minCostToConnectAllNodes(n, edges, newEdges):\n",
    "    parent = list(range(n))\n",
    "    component = n\n",
    "    \n",
    "    # sort newEdges by cost\n",
    "    \n",
    "    # union-find data structure\n",
    "    def find(x):\n",
    "        if parent[x] != x:\n",
    "            parent[x] = find(parent[x])\n",
    "        return parent[x]\n",
    "    \n",
    "    def union(x, y):\n",
    "        rx, ry = find(x), find(y)\n",
    "        if rx == ry:\n",
    "            return\n",
    "        parent[ry] = rx\n",
    "        component -= 1\n",
    "    return \n",
    "\n",
    "\n",
    "n = 6\n",
    "edges = [[1, 4], [4, 5], [2, 3]]\n",
    "newEdges = [[1, 2, 5], [1, 3, 10], [1, 6, 2], [5, 6, 5]]\n"
   ]
  },
  {
   "cell_type": "code",
   "execution_count": 44,
   "metadata": {},
   "outputs": [
    {
     "name": "stdout",
     "output_type": "stream",
     "text": [
      "True\n"
     ]
    }
   ],
   "source": [
    "def load_balance(arr):\n",
    "    load1 = load2 = load3 = 0\n",
    "    \n",
    "    #-- Brute Force Solution: O(n^2) --#\n",
    "#     result = []\n",
    "#     for L in range(1,len(arr)-1):\n",
    "#         for R in range(L+1,len(arr)):\n",
    "#             load1 = sum(arr[:L])\n",
    "#             load2 = sum(arr[L+1:R])\n",
    "#             load3 = sum(arr[R+1:])\n",
    "#             print(L,R)\n",
    "#             if load1 == load2 == load3:\n",
    "#                 result.append([L,R])\n",
    "#                 break\n",
    "#         else:\n",
    "#             continue\n",
    "#         break\n",
    "#     print('Load balanced at indices:', result)\n",
    "#     return True if len(result)>0 else False\n",
    "    \n",
    "    #-- More Efficient Solution: O(n) --#\n",
    "    L, R = 1, len(arr)-2\n",
    "    while L < R:\n",
    "        load1 = sum(arr[:L])\n",
    "        load2 = sum(arr[L+1:R])\n",
    "        load3 = sum(arr[R+1:])\n",
    "        \n",
    "        if load1 == load2 == load3:\n",
    "            return True\n",
    "        if load2 < load1 or load2 < load3:\n",
    "            return False\n",
    "        \n",
    "        if load1 < load3:\n",
    "            L+=1\n",
    "        else:\n",
    "            R-=1\n",
    "            \n",
    "# A = [1, 3, 4, 2, 2, 2, 1, 1, 2]\n",
    "# A = [1, 1, 1, 1, 1, 1]\n",
    "A = [2, 4, 5, 3, 3, 9, 2, 2, 2]\n",
    "# A = [1, 2, 1, 2, 1, 2, 1, 2]*20000\n",
    "print(load_balance(A))\n"
   ]
  },
  {
   "cell_type": "code",
   "execution_count": 78,
   "metadata": {},
   "outputs": [
    {
     "name": "stdout",
     "output_type": "stream",
     "text": [
      "[2, 3, 5]\n"
     ]
    }
   ],
   "source": [
    "import collections\n",
    "\n",
    "def criticalRouters(numNodes, numEdges, edges):\n",
    "    # build router graph with adjacency list\n",
    "    graph = collections.defaultdict(list)\n",
    "    for u,v in edges:\n",
    "        graph[u].append(v)\n",
    "        graph[v].append(u)\n",
    "        \n",
    "    articulation_pts = []\n",
    "    visited = [False for i in range(numNodes)]\n",
    "    depth = [-1 for i in range(numNodes)]\n",
    "    low = [-1 for i in range(numNodes)] # rank/depth of node\n",
    "    parent = [None for _ in range(numNodes)]\n",
    "    \n",
    "    # Run DFS while tracking the depth of of node and the lowpoint for each node \n",
    "    def dfs(node, d):\n",
    "        visited[node] = True\n",
    "        depth[node] = d\n",
    "        low[node] = d\n",
    "        numChild = 0\n",
    "        isArticulation = False\n",
    "        \n",
    "        for neighbor in graph[node]:\n",
    "            if not visited[neighbor]:\n",
    "                parent[neighbor] = node\n",
    "                dfs(neighbor, d+1)\n",
    "                numChild += 1\n",
    "                if low[neighbor] >= depth[node]:\n",
    "                    isArticulation = True\n",
    "                low[node] = min(low[node], low[neighbor])\n",
    "            elif neighbor != parent[node]:\n",
    "                low[node] = min(low[node], low[neighbor])\n",
    "        \n",
    "        if (parent[node] and isArticulation) or (not parent[node] and numChild > 1):\n",
    "            articulation_pts.append(node)\n",
    "    dfs(0,0)\n",
    "    return sorted(articulation_pts)\n",
    "\n",
    "        \n",
    "# numNodes = 7\n",
    "# numEdges = 8\n",
    "# edges = [[0, 1], [0, 2], [1, 2], [1, 6], [1, 4], [1, 3], [3, 5], [4, 5]]\n",
    "\n",
    "numNodes = 7\n",
    "numEdges = 7\n",
    "edges = [[0, 1], [0, 2], [1, 3], [2, 3], [2, 5], [5, 6], [3, 4]]\n",
    "print(criticalRouters(numNodes, numEdges, edges))"
   ]
  },
  {
   "cell_type": "code",
   "execution_count": 81,
   "metadata": {},
   "outputs": [
    {
     "name": "stdout",
     "output_type": "stream",
     "text": [
      "[2, 3, 5]\n"
     ]
    }
   ],
   "source": [
    "def isConnected(graph):\n",
    "    trav = set()\n",
    "    start = None\n",
    "    for k in graph:\n",
    "        start = k \n",
    "        break\n",
    "    \n",
    "    def DFS(node):\n",
    "        trav.add(node)\n",
    "        \n",
    "        for child in graph[node]:\n",
    "            if child not in trav:\n",
    "                DFS(child)\n",
    "        return\n",
    "    \n",
    "    DFS(start)\n",
    "    if len(trav)==len(graph):\n",
    "        return True\n",
    "    return False\n",
    "    \n",
    "                \n",
    "def getGraph(nodeNum, edges):\n",
    "    g = {}\n",
    "    for n in range(nodeNum):\n",
    "        g[n] = []\n",
    "    \n",
    "    for edg in edges:\n",
    "        g[edg[0]].append(edg[1])\n",
    "        g[edg[1]].append(edg[0])\n",
    "    \n",
    "    return g\n",
    "\n",
    "    \n",
    "    \n",
    "    \n",
    "def findCriticalNodes(nodeNum, edges):\n",
    "\n",
    "    ans = []\n",
    "    for n in range(nodeNum):\n",
    "        g = getGraph(nodeNum, edges)\n",
    "        del g[n]\n",
    "        for node in g:\n",
    "            if n in g[node]:\n",
    "                g[node].remove(n)\n",
    "     \n",
    "        if(not isConnected(g)):\n",
    "            ans.append(n)\n",
    "        \n",
    " \n",
    "    return ans\n",
    "\n",
    "print(findCriticalNodes(7, [[0,1], [0, 2], [1, 3], [2, 3], [2, 5], [5, 6], [3,4]]))\n",
    "    \n",
    "        \n",
    "# runtime is O(V*(V+E))"
   ]
  },
  {
   "cell_type": "code",
   "execution_count": 82,
   "metadata": {},
   "outputs": [],
   "source": [
    "import collections\n",
    "\n",
    "def criticalRouters(numRouters, numLinks, links):\n",
    "    # build network graph with adjacency list\n",
    "    graph = collections.defaultdict(list)\n",
    "   \n",
    "    for u,v in links:\n",
    "        graph[u].append(v)\n",
    "        graph[v].append(u)\n",
    "        \n",
    "    routers = [] # these are articulation points in graph\n",
    "    \n",
    "    # tracker variables of size numRouters+1 since points start at index 1\n",
    "    visited = set()\n",
    "    depth = [-1] * (numRouters+1) # tracks level depth of dfs\n",
    "    low = [-1] * (numRouters+1) \n",
    "    parent = [-1] * (numRouters+1)\n",
    "    \n",
    "    # Run DFS while tracking depth of each node/depth of recursive call and \n",
    "    # low point for each node \n",
    "    def dfs(node, d):\n",
    "        visited.add(node) # mark node as visited so avoid revisits\n",
    "        depth[node] = d\n",
    "        low[node] = d \n",
    "        numChild = 0 \n",
    "        isArticulation = False\n",
    "        \n",
    "        for neighbor in graph[node]:\n",
    "            # unseen node case\n",
    "            if neighbor not in visited:\n",
    "                parent[neighbor] = node # record its parent node \n",
    "                dfs(neighbor, d+1) # run dfs on this child\n",
    "                numChild += 1 # update parent node's num of children\n",
    "                if low[neighbor] >= depth[node]:\n",
    "                    isArticulation = True\n",
    "                low[node] = min(low[node], low[neighbor])\n",
    "                 \n",
    "            # seen case where the neighbor of the current node is not its parent\n",
    "            elif neighbor != parent[node]:\n",
    "                low[node] = min(low[node], low[neighbor])\n",
    "        \n",
    "        if (parent[node] and isArticulation) or (not parent[node] and numChild > 1):\n",
    "            routers.append(node)\n",
    "\n",
    "        \n",
    "    dfs(1,0) # can start with any node for DFS, start with 1   \n",
    "    return routers "
   ]
  },
  {
   "cell_type": "code",
   "execution_count": 110,
   "metadata": {},
   "outputs": [
    {
     "name": "stdout",
     "output_type": "stream",
     "text": [
      "7.605552673339844e-05\n"
     ]
    }
   ],
   "source": [
    "def multiply(A,B):\n",
    "    r,c = len(A), len(B[0])\n",
    "    res = [[0 for _ in range(c)] for _ in range(r)]\n",
    "    for i in range(r):\n",
    "        if all(elem == 0 for elem in A[i][:]): # multiplication with zero row, skip to next row\n",
    "            continue\n",
    "        for j in range(c):\n",
    "            if all(elem == 0 for elem in B[:][j]): # multiplication with zero col, skip to next col\n",
    "                continue\n",
    "            res[i][j] = dotprod(A[i][:],B[:][j])\n",
    "    return res\n",
    "\n",
    "def dotprod(r,c):\n",
    "    dot = 0\n",
    "    for i in range(len(r)):\n",
    "        dot += r[i]*c[i]\n",
    "    return dot\n",
    "\n",
    "A = [[1,0,0],\n",
    "     [-1,0,3]]\n",
    "\n",
    "B = [[7,0,0],\n",
    "     [0,0,0],\n",
    "     [0,0,1]]\n",
    "\n",
    "import time\n",
    "tic = time.time()\n",
    "multiply(A,B)\n",
    "print(time.time()-tic)\n",
    "\n"
   ]
  }
 ],
 "metadata": {
  "kernelspec": {
   "display_name": "Python 3",
   "language": "python",
   "name": "python3"
  },
  "language_info": {
   "codemirror_mode": {
    "name": "ipython",
    "version": 3
   },
   "file_extension": ".py",
   "mimetype": "text/x-python",
   "name": "python",
   "nbconvert_exporter": "python",
   "pygments_lexer": "ipython3",
   "version": "3.7.3"
  },
  "toc": {
   "base_numbering": 1,
   "nav_menu": {},
   "number_sections": false,
   "sideBar": false,
   "skip_h1_title": true,
   "title_cell": "Table of Contents",
   "title_sidebar": "Contents",
   "toc_cell": false,
   "toc_position": {},
   "toc_section_display": true,
   "toc_window_display": false
  }
 },
 "nbformat": 4,
 "nbformat_minor": 2
}
